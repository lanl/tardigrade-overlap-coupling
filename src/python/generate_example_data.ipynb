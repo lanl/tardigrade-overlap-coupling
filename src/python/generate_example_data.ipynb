{
 "cells": [
  {
   "cell_type": "code",
   "execution_count": 1,
   "metadata": {},
   "outputs": [],
   "source": [
    "import numpy as np\n",
    "import matplotlib.pyplot as plt\n",
    "from tqdm import tqdm_notebook as tqdm\n",
    "\n",
    "import scipy.stats as stats\n",
    "\n",
    "%matplotlib inline"
   ]
  },
  {
   "cell_type": "code",
   "execution_count": 2,
   "metadata": {},
   "outputs": [
    {
     "data": {
      "application/vnd.jupyter.widget-view+json": {
       "model_id": "11d8ae207fed42a49313e76cc55d8d31",
       "version_major": 2,
       "version_minor": 0
      },
      "text/plain": [
       "HBox(children=(IntProgress(value=0, max=1000), HTML(value='')))"
      ]
     },
     "metadata": {},
     "output_type": "display_data"
    },
    {
     "name": "stdout",
     "output_type": "stream",
     "text": [
      "\n"
     ]
    },
    {
     "data": {
      "application/vnd.jupyter.widget-view+json": {
       "model_id": "c7d6ffe9c07b4fcd98733185861e3942",
       "version_major": 2,
       "version_minor": 0
      },
      "text/plain": [
       "HBox(children=(IntProgress(value=0, max=1000), HTML(value='')))"
      ]
     },
     "metadata": {},
     "output_type": "display_data"
    },
    {
     "name": "stdout",
     "output_type": "stream",
     "text": [
      "\n"
     ]
    },
    {
     "data": {
      "application/vnd.jupyter.widget-view+json": {
       "model_id": "d127533a645848ddbf6ab71ad8ec51d5",
       "version_major": 2,
       "version_minor": 0
      },
      "text/plain": [
       "HBox(children=(IntProgress(value=0, max=1000), HTML(value='')))"
      ]
     },
     "metadata": {},
     "output_type": "display_data"
    },
    {
     "name": "stdout",
     "output_type": "stream",
     "text": [
      "\n"
     ]
    },
    {
     "data": {
      "application/vnd.jupyter.widget-view+json": {
       "model_id": "8f65828e8e404956840e732a2aa4358f",
       "version_major": 2,
       "version_minor": 0
      },
      "text/plain": [
       "HBox(children=(IntProgress(value=0, max=1000), HTML(value='')))"
      ]
     },
     "metadata": {},
     "output_type": "display_data"
    },
    {
     "name": "stdout",
     "output_type": "stream",
     "text": [
      "\n"
     ]
    },
    {
     "data": {
      "application/vnd.jupyter.widget-view+json": {
       "model_id": "2e4bbe05ef78431a93c6073cb2244119",
       "version_major": 2,
       "version_minor": 0
      },
      "text/plain": [
       "HBox(children=(IntProgress(value=0, max=1000), HTML(value='')))"
      ]
     },
     "metadata": {},
     "output_type": "display_data"
    },
    {
     "name": "stdout",
     "output_type": "stream",
     "text": [
      "\n"
     ]
    },
    {
     "data": {
      "application/vnd.jupyter.widget-view+json": {
       "model_id": "1c1bb1bd0fc845d6a37e5826c16be51c",
       "version_major": 2,
       "version_minor": 0
      },
      "text/plain": [
       "HBox(children=(IntProgress(value=0, max=1000), HTML(value='')))"
      ]
     },
     "metadata": {},
     "output_type": "display_data"
    },
    {
     "name": "stdout",
     "output_type": "stream",
     "text": [
      "\n"
     ]
    },
    {
     "data": {
      "application/vnd.jupyter.widget-view+json": {
       "model_id": "fbee0dc75a684b8b822e27c5902c4494",
       "version_major": 2,
       "version_minor": 0
      },
      "text/plain": [
       "HBox(children=(IntProgress(value=0, max=1000), HTML(value='')))"
      ]
     },
     "metadata": {},
     "output_type": "display_data"
    },
    {
     "name": "stdout",
     "output_type": "stream",
     "text": [
      "\n"
     ]
    },
    {
     "data": {
      "application/vnd.jupyter.widget-view+json": {
       "model_id": "a0decb18d54048b5989251ca223ffd7a",
       "version_major": 2,
       "version_minor": 0
      },
      "text/plain": [
       "HBox(children=(IntProgress(value=0, max=1000), HTML(value='')))"
      ]
     },
     "metadata": {},
     "output_type": "display_data"
    },
    {
     "name": "stdout",
     "output_type": "stream",
     "text": [
      "\n"
     ]
    },
    {
     "data": {
      "application/vnd.jupyter.widget-view+json": {
       "model_id": "eec93b346eee44329c40647df927d9ee",
       "version_major": 2,
       "version_minor": 0
      },
      "text/plain": [
       "HBox(children=(IntProgress(value=0, max=1000), HTML(value='')))"
      ]
     },
     "metadata": {},
     "output_type": "display_data"
    },
    {
     "name": "stdout",
     "output_type": "stream",
     "text": [
      "\n"
     ]
    },
    {
     "data": {
      "application/vnd.jupyter.widget-view+json": {
       "model_id": "962a228910b74a24ad8f0c1bd001ff42",
       "version_major": 2,
       "version_minor": 0
      },
      "text/plain": [
       "HBox(children=(IntProgress(value=0, max=1000), HTML(value='')))"
      ]
     },
     "metadata": {},
     "output_type": "display_data"
    },
    {
     "name": "stdout",
     "output_type": "stream",
     "text": [
      "\n"
     ]
    },
    {
     "data": {
      "application/vnd.jupyter.widget-view+json": {
       "model_id": "62812a42dfe7419786db976c7656f9e7",
       "version_major": 2,
       "version_minor": 0
      },
      "text/plain": [
       "HBox(children=(IntProgress(value=0, max=1000), HTML(value='')))"
      ]
     },
     "metadata": {},
     "output_type": "display_data"
    },
    {
     "name": "stdout",
     "output_type": "stream",
     "text": [
      "\n"
     ]
    }
   ],
   "source": [
    "np.random.seed(123)\n",
    "npts = 1000\n",
    "\n",
    "#Random points\n",
    "x = np.array([np.random.rand(3) for _ in range(npts)])\n",
    "\n",
    "def density(x):\n",
    "    return 2700.\n",
    "\n",
    "def rotation_matrix(random=True):\n",
    "    thx = stats.norm(loc=np.pi/3, scale=0.05).rvs()\n",
    "    thy = stats.norm(loc=-np.pi/5, scale=0.1).rvs()\n",
    "    thz = stats.norm(loc=0, scale=0.2).rvs()\n",
    "    \n",
    "    Rx = np.array([[1,           0,            0],\\\n",
    "                   [0, np.cos(thx), -np.sin(thx)],\\\n",
    "                   [0, np.sin(thx),  np.cos(thx)]])\n",
    "    \n",
    "    Ry = np.array([[ np.cos(thy), 0, np.sin(thy)],\\\n",
    "                   [          0, 1,           0],\\\n",
    "                   [-np.sin(thy), 0, np.cos(thy)]])\n",
    "    \n",
    "    Rz = np.array([[np.cos(thz), -np.sin(thz), 0],\\\n",
    "                   [np.sin(thz),  np.cos(thz), 0],\\\n",
    "                   [          0,            0, 1]])\n",
    "    \n",
    "    return Rz.dot(Ry.dot(Rx))\n",
    "\n",
    "def stress(x, t):\n",
    "    principal = np.diag([2.0*x[0], 0.0, 0.0])*t\n",
    "    Q = rotation_matrix()\n",
    "    return Q.dot(principal).dot(Q.T)\n",
    "\n",
    "def voigt(A):\n",
    "    order = [(0, 0), (1, 1), (2, 2), (1, 2), (0, 2), (0, 1), (2, 1), (2, 0), (1, 0)]\n",
    "    return np.array([A[i,j] for i,j in order])\n",
    "    \n",
    "import pickle\n",
    "fn = \"example_data.txt\"\n",
    "f = open(fn, 'w')\n",
    "\n",
    "\n",
    "\n",
    "header  = \"This file contains fake data that is not intended to be representative\\n\"\n",
    "header += \"of any true material. It exists merely to demonstrate the filter's\\n\"\n",
    "header += \"capabilities.\\n\"\n",
    "header += \"BEGIN DATA\\n\"\n",
    "f.write(header)\n",
    "\n",
    "time = np.linspace(0, 1, 11)\n",
    "for t in time:\n",
    "    f.write(\"t = {0}\\n\".format(t))\n",
    "    for i, point in enumerate(tqdm(x)):\n",
    "        line  = \"MP, {0}, {1}, {2}, {3}\".format(i, point[0], point[1], point[2])\n",
    "        line += \", {0}\".format(density(point))\n",
    "        line += \"\".join([\", {0}\".format(s) for s in voigt(stress(point, t))])\n",
    "        line += \"\\n\"\n",
    "        f.write(line)\n",
    "f.close()"
   ]
  },
  {
   "cell_type": "code",
   "execution_count": null,
   "metadata": {},
   "outputs": [],
   "source": []
  }
 ],
 "metadata": {
  "kernelspec": {
   "display_name": "Python 3",
   "language": "python",
   "name": "python3"
  },
  "language_info": {
   "codemirror_mode": {
    "name": "ipython",
    "version": 3
   },
   "file_extension": ".py",
   "mimetype": "text/x-python",
   "name": "python",
   "nbconvert_exporter": "python",
   "pygments_lexer": "ipython3",
   "version": "3.6.8"
  }
 },
 "nbformat": 4,
 "nbformat_minor": 2
}
