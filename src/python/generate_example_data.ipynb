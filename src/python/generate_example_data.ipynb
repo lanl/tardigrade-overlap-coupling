{
 "cells": [
  {
   "cell_type": "code",
   "execution_count": 53,
   "metadata": {},
   "outputs": [],
   "source": [
    "import numpy as np\n",
    "from mpl_toolkits.mplot3d import Axes3D\n",
    "import matplotlib.pyplot as plt\n",
    "from tqdm import tqdm_notebook as tqdm\n",
    "\n",
    "import scipy.stats as stats\n",
    "\n",
    "#%matplotlib inline"
   ]
  },
  {
   "cell_type": "code",
   "execution_count": 54,
   "metadata": {},
   "outputs": [],
   "source": [
    "example_datafile = 'example_data.txt'\n",
    "filter_config = '../cpp/tests/assembly/connectivity.txt'\n",
    "\n",
    "fed = open(example_datafile, 'r')\n",
    "fc = open(filter_config, 'r')"
   ]
  },
  {
   "cell_type": "code",
   "execution_count": 55,
   "metadata": {},
   "outputs": [],
   "source": [
    "fed = open(example_datafile, 'r')\n",
    "\n",
    "begin_data = False\n",
    "dns_data = {}\n",
    "for line in fed.readlines():\n",
    "    \n",
    "    if begin_data:\n",
    "        \n",
    "        if \"t = \" in line:\n",
    "            tc = float(line[3:])\n",
    "            dns_data.update({tc:np.empty((0, 3))})\n",
    "        else:\n",
    "            data = [s.replace(',', '') for s in line.split()]\n",
    "            pos = np.array([float(data[i]) for i in range(2, 5)])\n",
    "            dns_data[tc] = np.vstack([dns_data[tc], pos])\n",
    "    \n",
    "    if (line.strip() == \"BEGIN DATA\"):\n",
    "        begin_data = True\n",
    "    \n",
    "fed.close()"
   ]
  },
  {
   "cell_type": "code",
   "execution_count": 56,
   "metadata": {},
   "outputs": [
    {
     "name": "stdout",
     "output_type": "stream",
     "text": [
      "{1: array([0., 0., 0.]), 2: array([1., 0., 0.]), 3: array([1., 1., 0.]), 4: array([0., 1., 0.]), 5: array([0., 0., 1.]), 8: array([1., 0., 1.]), 6: array([1., 1., 1.]), 7: array([0., 1., 1.])}\n",
      "{10: [1, 2, 3, 4, 5, 8, 6, 7]}\n"
     ]
    }
   ],
   "source": [
    "fc = open(filter_config, 'r')\n",
    "\n",
    "begin_data = False\n",
    "\n",
    "nodes = {}\n",
    "conn = {}\n",
    "\n",
    "for line in fc.readlines():\n",
    "    \n",
    "    if begin_data:\n",
    "    \n",
    "        data = [s.replace(',', '') for s in line.split()]\n",
    "        \n",
    "        if(len(data)>0):\n",
    "        \n",
    "            if (data[0]=='N'):\n",
    "                nid = int(data[1])\n",
    "                pos = np.array([float(data[i]) for i in range(2, len(data))])\n",
    "                nodes.update({nid:pos})\n",
    "                \n",
    "            elif (data[0]=='E'):\n",
    "                eid = int(data[2])\n",
    "                nids = [int(data[i]) for i in range(3, len(data))]\n",
    "                conn.update({eid:nids})\n",
    "        \n",
    "    if (line.strip() == \"BEGIN DATA\"):\n",
    "        begin_data = True\n",
    "\n",
    "print(nodes)\n",
    "print(conn)\n",
    "fc.close()"
   ]
  },
  {
   "cell_type": "code",
   "execution_count": 57,
   "metadata": {},
   "outputs": [],
   "source": [
    "#Assume hex8 for now\n",
    "def plot_hex(eid, nodes, conn, u, ax):\n",
    "    #Plot bottom square\n",
    "    x = np.array([nodes[n]+u[n] for n in conn[eid][:4]] + [nodes[conn[eid][0]]+u[conn[eid][0]]])\n",
    "    ax.plot(*zip(*x), color='k', marker='o')\n",
    "    #Plot top square\n",
    "    x = np.array([nodes[n]+u[n] for n in conn[eid][4:]] + [nodes[conn[eid][4]]+u[conn[eid][4]]])\n",
    "    ax.plot(*zip(*x), color='k', marker='o')\n",
    "    #Plot sides\n",
    "    for i in range(4):\n",
    "        x = [nodes[conn[eid][i]]+u[conn[eid][i]], nodes[conn[eid][i+4]]+u[conn[eid][i+4]]]\n",
    "        ax.plot(*zip(*x), color='k', marker='o')\n",
    "\n",
    "fig = plt.figure(figsize=(9, 9))\n",
    "ax = fig.add_subplot(111, projection='3d')\n",
    "u = dict((key, np.zeros(3)) for key in nodes.keys())\n",
    "plot_hex(10, nodes, conn, u, ax)\n",
    "plt.show()"
   ]
  },
  {
   "cell_type": "code",
   "execution_count": 58,
   "metadata": {},
   "outputs": [
    {
     "name": "stdout",
     "output_type": "stream",
     "text": [
      "0.1\n"
     ]
    }
   ],
   "source": [
    "us = np.array([[0.296511, -0.100599, 0.288297],\\\n",
    "[0.340768, -0.0339587, 0.321454],\\\n",
    "[0.297521, -0.0599225, 0.386237],\\\n",
    "[0.253264, -0.126563, 0.35308],\\\n",
    "[0.273059, -0.189617, 0.274714],\\\n",
    "[0.317316, -0.122977, 0.307871],\\\n",
    "[0.274069, -0.148941, 0.372654],\\\n",
    "[0.229812, -0.215581, 0.339497]])\n",
    "\n",
    "u = dict([(key, us[i]) for key, i in zip(nodes.keys(), range(8))])\n",
    "\n",
    "fig = plt.figure(figsize=(9, 9))\n",
    "ax = fig.add_subplot(111, projection='3d')\n",
    "for i, key in enumerate(dns_data.keys()):\n",
    "    if (i != 1):\n",
    "        continue\n",
    "    else:\n",
    "        print(key)\n",
    "    data = dns_data[key]\n",
    "    ax.scatter(*zip(*data), label='t = {0:1.4f}'.format(key))\n",
    "plot_hex(10, nodes, conn, u, ax)\n",
    "plt.show()"
   ]
  },
  {
   "cell_type": "code",
   "execution_count": 59,
   "metadata": {},
   "outputs": [
    {
     "name": "stdout",
     "output_type": "stream",
     "text": [
      "{1: array([ 0.602945, -0.204222,  0.561868]), 2: array([ 0.679657 , -0.0624096,  0.6374   ]), 3: array([ 0.592969, -0.126602,  0.760303]), 4: array([ 0.516257, -0.268414,  0.684771]), 5: array([ 0.57752 , -0.381413,  0.51808 ]), 8: array([ 0.654232, -0.239601,  0.593612]), 6: array([ 0.567544, -0.303793,  0.716514]), 7: array([ 0.490832, -0.445605,  0.640982])}\n"
     ]
    }
   ],
   "source": [
    "us = np.array([[0.602945, -0.204222, 0.561868],\n",
    "[0.679657, -0.0624096, 0.6374],\n",
    "[0.592969, -0.126602, 0.760303],\n",
    "[0.516257, -0.268414, 0.684771],\n",
    "[0.57752, -0.381413, 0.51808],\n",
    "[0.654232, -0.239601, 0.593612],\n",
    "[0.567544, -0.303793, 0.716514],\n",
    "[0.490832, -0.445605, 0.640982]])\n",
    "\n",
    "\n",
    "\n",
    "u = dict([(key, us[i]) for key, i in zip(nodes.keys(), range(8))])\n",
    "print(u)\n",
    "\n",
    "fig = plt.figure(figsize=(9, 9))\n",
    "ax = fig.add_subplot(111, projection='3d')\n",
    "for i, key in enumerate(dns_data.keys()):\n",
    "    if (i != 2):\n",
    "        continue\n",
    "    data = dns_data[key]\n",
    "    ax.scatter(*zip(*data), label='t = {0:1.4f}'.format(key))\n",
    "plot_hex(10, nodes, conn, u, ax)"
   ]
  },
  {
   "cell_type": "code",
   "execution_count": 60,
   "metadata": {},
   "outputs": [
    {
     "data": {
      "text/plain": [
       "[1, 2, 3]"
      ]
     },
     "execution_count": 60,
     "metadata": {},
     "output_type": "execute_result"
    }
   ],
   "source": [
    "[1,2,3,]"
   ]
  },
  {
   "cell_type": "code",
   "execution_count": 66,
   "metadata": {},
   "outputs": [
    {
     "name": "stdout",
     "output_type": "stream",
     "text": [
      "(100, 2, 3)\n"
     ]
    }
   ],
   "source": [
    "#np.random.seed(123)\n",
    "#pts = np.hstack([micro_us + dns_data[0], dns_data[0]])\n",
    "#\n",
    "#isubset = np.random.choice(pts.shape[0], 100, replace=False)\n",
    "#subset = pts[isubset]\n",
    "#\n",
    "#spts = np.array([[s[:3], s[3:]] for s in subset])\n",
    "#print(spts.shape)\n",
    "#\n",
    "#fig = plt.figure(figsize=(9, 9))\n",
    "#ax = fig.add_subplot(111, projection='3d')\n",
    "#u = dict((key, np.zeros(3)) for key in nodes.keys())\n",
    "#plot_hex(10, nodes, conn, u, ax)\n",
    "#us = np.array([[0.318976, -0.049644, 0.200312],\n",
    "#[0.420757, -0.0292879, 0.195223],\n",
    "#[0.441113, -0.07, 0.174866],\n",
    "#[0.339332, -0.090356, 0.179955],\n",
    "#[0.313887, -0.07, 0.190134],\n",
    "#[0.415668, -0.049644, 0.185045],\n",
    "#[0.436024, -0.090356, 0.164688],\n",
    "#[0.334243, -0.110712, 0.169777],\n",
    "#])\n",
    "#u = dict([(key, us[i]) for key, i in zip(nodes.keys(), range(8))])\n",
    "#plot_hex(10, nodes, conn, u, ax)\n",
    "#\n",
    "#ax.scatter(*zip(*dns_data[0][isubset]), color='b')\n",
    "#ax.scatter(*zip(*dns_data[.1][isubset]), color='r')\n",
    "#\n",
    "#for sp in spts:\n",
    "#    \n",
    "#    ax.plot(sp.T[0], sp.T[1], sp.T[2], color='k')\n",
    "#    \n",
    "#\n",
    "#plt.show()\n"
   ]
  },
  {
   "cell_type": "code",
   "execution_count": null,
   "metadata": {},
   "outputs": [],
   "source": []
  }
 ],
 "metadata": {
  "kernelspec": {
   "display_name": "Python 3",
   "language": "python",
   "name": "python3"
  },
  "language_info": {
   "codemirror_mode": {
    "name": "ipython",
    "version": 3
   },
   "file_extension": ".py",
   "mimetype": "text/x-python",
   "name": "python",
   "nbconvert_exporter": "python",
   "pygments_lexer": "ipython3",
   "version": "3.6.8"
  }
 },
 "nbformat": 4,
 "nbformat_minor": 2
}
